{
  "nbformat": 4,
  "nbformat_minor": 0,
  "metadata": {
    "colab": {
      "name": "Supervised_ML",
      "provenance": [],
      "collapsed_sections": [],
      "authorship_tag": "ABX9TyN6SsCP9/xFsybYh0oRbMPP",
      "include_colab_link": true
    },
    "kernelspec": {
      "name": "python3",
      "display_name": "Python 3"
    }
  },
  "cells": [
    {
      "cell_type": "markdown",
      "metadata": {
        "id": "view-in-github",
        "colab_type": "text"
      },
      "source": [
        "<a href=\"https://colab.research.google.com/github/Akash-Venkat/Spark-Foundation-Intern/blob/main/Supervised_ML.ipynb\" target=\"_parent\"><img src=\"https://colab.research.google.com/assets/colab-badge.svg\" alt=\"Open In Colab\"/></a>"
      ]
    },
    {
      "cell_type": "markdown",
      "metadata": {
        "id": "MyseXJc59AfC"
      },
      "source": [
        "**Prediction using Supervised ML**"
      ]
    },
    {
      "cell_type": "markdown",
      "metadata": {
        "id": "r_eQMjU-JUBR"
      },
      "source": [
        "To predict the marks based on the study hours\n"
      ]
    },
    {
      "cell_type": "markdown",
      "metadata": {
        "id": "chWqy-Ph9W5y"
      },
      "source": [
        "STEP 1 :\n",
        "import the necessary packages"
      ]
    },
    {
      "cell_type": "code",
      "metadata": {
        "id": "pfX2Q83-1LYu"
      },
      "source": [
        "import numpy as np\n",
        "import pandas as pd\n",
        "import matplotlib.pyplot as plt  \n",
        "%matplotlib inline               "
      ],
      "execution_count": null,
      "outputs": []
    },
    {
      "cell_type": "markdown",
      "metadata": {
        "id": "mT3SAlM79pOl"
      },
      "source": [
        "STEP 2 : Getting the dataset"
      ]
    },
    {
      "cell_type": "code",
      "metadata": {
        "id": "COifjR5q2b2q",
        "outputId": "540506e0-a12a-4c47-a885-7b729c5487a8",
        "colab": {
          "base_uri": "https://localhost:8080/",
          "height": 454
        }
      },
      "source": [
        "url = \"http://bit.ly/w-data\"\n",
        "data = pd.read_csv(url)\n",
        "print(data)"
      ],
      "execution_count": null,
      "outputs": [
        {
          "output_type": "stream",
          "text": [
            "    Hours  Scores\n",
            "0     2.5      21\n",
            "1     5.1      47\n",
            "2     3.2      27\n",
            "3     8.5      75\n",
            "4     3.5      30\n",
            "5     1.5      20\n",
            "6     9.2      88\n",
            "7     5.5      60\n",
            "8     8.3      81\n",
            "9     2.7      25\n",
            "10    7.7      85\n",
            "11    5.9      62\n",
            "12    4.5      41\n",
            "13    3.3      42\n",
            "14    1.1      17\n",
            "15    8.9      95\n",
            "16    2.5      30\n",
            "17    1.9      24\n",
            "18    6.1      67\n",
            "19    7.4      69\n",
            "20    2.7      30\n",
            "21    4.8      54\n",
            "22    3.8      35\n",
            "23    6.9      76\n",
            "24    7.8      86\n"
          ],
          "name": "stdout"
        }
      ]
    },
    {
      "cell_type": "markdown",
      "metadata": {
        "id": "hEVsvR1Y9hUv"
      },
      "source": [
        "STEP 3 : Here we should check for any NAN values or the value which is very high or low compared to other values and then it should be removed."
      ]
    },
    {
      "cell_type": "code",
      "metadata": {
        "id": "3Obye8zU9gPZ",
        "outputId": "e8973890-e05b-4649-d77f-91cdf271c58e",
        "colab": {
          "base_uri": "https://localhost:8080/",
          "height": 34
        }
      },
      "source": [
        "data.isnull().values.any()"
      ],
      "execution_count": null,
      "outputs": [
        {
          "output_type": "execute_result",
          "data": {
            "text/plain": [
              "False"
            ]
          },
          "metadata": {
            "tags": []
          },
          "execution_count": 4
        }
      ]
    },
    {
      "cell_type": "markdown",
      "metadata": {
        "id": "ZW6VWmaZ9-MF"
      },
      "source": [
        "STEP 4 : Visualizing the dataset"
      ]
    },
    {
      "cell_type": "code",
      "metadata": {
        "id": "rHDlgFbx3kdV",
        "outputId": "2336575b-e130-4063-c548-3b6d168a032c",
        "colab": {
          "base_uri": "https://localhost:8080/",
          "height": 295
        }
      },
      "source": [
        "#By plotting x(no.of hrs studied) and y-axis(marks) we came to know both are directly proportional\n",
        "data.plot(x='Hours', y='Scores', style='*')\n",
        "plt.title('Hours vs Percentage')  \n",
        "plt.xlabel('No.of Hours Studied')  \n",
        "plt.ylabel('Percentage Score')  \n",
        "plt.show()"
      ],
      "execution_count": null,
      "outputs": [
        {
          "output_type": "display_data",
          "data": {
            "image/png": "[encoded data removed]",
            "text/plain": [
              "<Figure size 432x288 with 1 Axes>"
            ]
          },
          "metadata": {
            "tags": [],
            "needs_background": "light"
          }
        }
      ]
    },
    {
      "cell_type": "code",
      "metadata": {
        "id": "s6UVt87t-ZJo",
        "outputId": "84a5ca4f-ebe1-4422-8877-ae6942cf56ea",
        "colab": {
          "base_uri": "https://localhost:8080/",
          "height": 84
        }
      },
      "source": [
        "#To get the value of x and y from the data set by iloc and slicing operation\n",
        "x =data.iloc[:, 0].values  \n",
        "y =data.iloc[:, 1].values  \n",
        "print(x)\n",
        "print(y)"
      ],
      "execution_count": null,
      "outputs": [
        {
          "output_type": "stream",
          "text": [
            "[2.5 5.1 3.2 8.5 3.5 1.5 9.2 5.5 8.3 2.7 7.7 5.9 4.5 3.3 1.1 8.9 2.5 1.9\n",
            " 6.1 7.4 2.7 4.8 3.8 6.9 7.8]\n",
            "[21 47 27 75 30 20 88 60 81 25 85 62 41 42 17 95 30 24 67 69 30 54 35 76\n",
            " 86]\n"
          ],
          "name": "stdout"
        }
      ]
    },
    {
      "cell_type": "markdown",
      "metadata": {
        "id": "ENOOtfGqK6A_"
      },
      "source": [
        "Split the data for training and testing note that train_size should be maximum(80%) and test_size is minimum(20%) and random_state should be given to not change in value of training and testing data on every runtime"
      ]
    },
    {
      "cell_type": "code",
      "metadata": {
        "id": "SblgoqtZPTBU",
        "outputId": "73c7df30-7eb1-4bd5-dc90-c4ade56e5182",
        "colab": {
          "base_uri": "https://localhost:8080/",
          "height": 50
        }
      },
      "source": [
        "#Splitting of data\n",
        "from sklearn.model_selection import train_test_split  \n",
        "X_train, X_test, y_train, y_test = train_test_split(x, y,test_size=0.2, random_state=0)\n",
        "print(X_train, X_test, y_train, y_test)"
      ],
      "execution_count": null,
      "outputs": [
        {
          "output_type": "stream",
          "text": [
            "[3.8 1.9 7.8 6.9 1.1 5.1 7.7 3.3 8.3 9.2 6.1 3.5 2.7 5.5 2.7 8.5 2.5 4.8\n",
            " 8.9 4.5] [1.5 3.2 7.4 2.5 5.9] [35 24 86 76 17 47 85 42 81 88 67 30 25 60 30 75 21 54 95 41] [20 27 69 30 62]\n"
          ],
          "name": "stdout"
        }
      ]
    },
    {
      "cell_type": "markdown",
      "metadata": {
        "id": "25mN6joW-PLZ"
      },
      "source": [
        "STEP 5 : Training the algorithm"
      ]
    },
    {
      "cell_type": "code",
      "metadata": {
        "id": "BYYBZZOXR2MG",
        "outputId": "d4f24376-554f-46be-a415-e0557e744370",
        "colab": {
          "base_uri": "https://localhost:8080/",
          "height": 34
        }
      },
      "source": [
        "#The algorith used to train the data is linear regression imported from sklearn\n",
        "from sklearn.linear_model import LinearRegression  \n",
        "regressor = LinearRegression()  \n",
        "regressor.fit(X_train.reshape(-1,1), y_train.reshape(-1,1)) \n",
        "print(\"Training Sucessful\")"
      ],
      "execution_count": null,
      "outputs": [
        {
          "output_type": "stream",
          "text": [
            "Training Sucessful\n"
          ],
          "name": "stdout"
        }
      ]
    },
    {
      "cell_type": "markdown",
      "metadata": {
        "id": "mvHEvlNr-wxn"
      },
      "source": [
        "STEP 6 : Plotting linear regression Line"
      ]
    },
    {
      "cell_type": "code",
      "metadata": {
        "id": "iaLSniu-STep",
        "outputId": "aa38efee-2713-4048-8d1e-9bf711b04823",
        "colab": {
          "base_uri": "https://localhost:8080/",
          "height": 349
        }
      },
      "source": [
        "# Plotting the regression line\n",
        "line = regressor.coef_*x+regressor.intercept_            #finding slope i.e y=mx+c\n",
        "print(line)\n",
        "# Plotting for the test data\n",
        "plt.scatter(x, y)\n",
        "plt.plot(x, line.reshape(-1,1));\n",
        "plt.show()"
      ],
      "execution_count": null,
      "outputs": [
        {
          "output_type": "stream",
          "text": [
            "[[26.79480124 52.56250809 33.73226078 86.25874013 36.70545772 16.88414476\n",
            "  93.19619966 56.52677068 84.27660883 28.77693254 78.33021494 60.49103328\n",
            "  46.6161142  34.72332643 12.91988217 90.22300272 26.79480124 20.84840735\n",
            "  62.47316457 75.357018   28.77693254 49.58931115 39.67865467 70.40168976\n",
            "  79.32128059]]\n"
          ],
          "name": "stdout"
        },
        {
          "output_type": "display_data",
          "data": {
            "image/png": "[encoded data removed]",
            "text/plain": [
              "<Figure size 432x288 with 1 Axes>"
            ]
          },
          "metadata": {
            "tags": [],
            "needs_background": "light"
          }
        }
      ]
    },
    {
      "cell_type": "markdown",
      "metadata": {
        "id": "AusTIg79-9Kw"
      },
      "source": [
        "STEP 7 : Predict the marks using the trained algorithm"
      ]
    },
    {
      "cell_type": "code",
      "metadata": {
        "id": "tgLCzDGzbxoO",
        "outputId": "b3f420fa-7089-4888-f611-c24b35d23140",
        "colab": {
          "base_uri": "https://localhost:8080/",
          "height": 134
        }
      },
      "source": [
        "# Here we are comparing the actual and predicted value in the dataframe\n",
        "y_pred = regressor.predict(np.array(X_test).reshape(-1,1)) # Predicting the scores\n",
        "y_pred=np.array(y_pred).reshape(1,-1)\n",
        "print(y_test)\n",
        "df = pd.DataFrame({'Actual': y_test, 'Predicted': y_pred[0]})  \n",
        "print(df)"
      ],
      "execution_count": null,
      "outputs": [
        {
          "output_type": "stream",
          "text": [
            "[20 27 69 30 62]\n",
            "   Actual  Predicted\n",
            "0      20  16.884145\n",
            "1      27  33.732261\n",
            "2      69  75.357018\n",
            "3      30  26.794801\n",
            "4      62  60.491033\n"
          ],
          "name": "stdout"
        }
      ]
    },
    {
      "cell_type": "markdown",
      "metadata": {
        "id": "zoEmAj7O_avP"
      },
      "source": [
        "STEP 8 : Check the correctness of the algorithm"
      ]
    },
    {
      "cell_type": "markdown",
      "metadata": {
        "id": "KqYQtF9_NBTp"
      },
      "source": [
        "To check the correctness of the algorithm here we use mean absolute error there is other algorithm like R square to check algorith performance"
      ]
    },
    {
      "cell_type": "code",
      "metadata": {
        "id": "ggethpDHf_hM",
        "outputId": "19a74511-39ca-4b4f-c17a-91b480bb51a6",
        "colab": {
          "base_uri": "https://localhost:8080/",
          "height": 50
        }
      },
      "source": [
        "from sklearn import metrics \n",
        "print(y_pred[0]) \n",
        "print('Mean Absolute Error:', \n",
        "      metrics.mean_absolute_error(y_test, y_pred[0])) "
      ],
      "execution_count": null,
      "outputs": [
        {
          "output_type": "stream",
          "text": [
            "[16.88414476 33.73226078 75.357018   26.79480124 60.49103328]\n",
            "Mean Absolute Error: 4.183859899002982\n"
          ],
          "name": "stdout"
        }
      ]
    },
    {
      "cell_type": "markdown",
      "metadata": {
        "id": "NkO0d5r4_rE9"
      },
      "source": [
        "Predict with our own data"
      ]
    },
    {
      "cell_type": "code",
      "metadata": {
        "id": "ulFEpvhob5EX",
        "outputId": "d5d87a08-75aa-46c9-e446-472702c30387",
        "colab": {
          "base_uri": "https://localhost:8080/",
          "height": 67
        }
      },
      "source": [
        "# Here we can test with our own data\n",
        "hours = float(input(\"Enter no.of hrs studied to predict your mark \"))\n",
        "hours=np.array(hours).reshape(-1,1)\n",
        "own_pred = regressor.predict(hours)\n",
        "print(\"No of Hours = {}\".format(hours[0][0]))\n",
        "print(\"Predicted Score = {}\".format(own_pred[0][0]))"
      ],
      "execution_count": null,
      "outputs": [
        {
          "output_type": "stream",
          "text": [
            "Enter no.of hrs studied to predict your mark 9.25\n",
            "No of Hours = 9.25\n",
            "Predicted Score = 93.69173248737539\n"
          ],
          "name": "stdout"
        }
      ]
    }
  ]
}